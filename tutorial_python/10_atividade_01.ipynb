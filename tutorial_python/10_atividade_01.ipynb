{
 "cells": [
  {
   "cell_type": "markdown",
   "metadata": {},
   "source": [
    "## Atividade 1 - Tutorial python"
   ]
  },
  {
   "cell_type": "markdown",
   "metadata": {},
   "source": [
    "#### Exercício 1 - Gerador de Senhas Aleatórias"
   ]
  },
  {
   "cell_type": "markdown",
   "metadata": {},
   "source": [
    "**Contexto**: Você está criando uma ferramenta para gerar senhas aleatórias de diferentes níveis de complexidade.\n",
    "\n",
    "**Instruções**:\n",
    "\n",
    "1. Crie uma função chamada gera_senha que aceita dois parâmetros:\n",
    "- tamanho: O tamanho da senha que será gerada.\n",
    "- complexidade (opcional): A complexidade da senha, que pode ser \"baixa\", \"média\" ou \"alta\". Se esse parâmetro não for fornecido, a complexidade padrão será \"média\".\n",
    "\n",
    "2. Dependendo da complexidade escolhida, sua função deve gerar senhas com as seguintes características:\n",
    "- Baixa Complexidade: A senha pode conter apenas letras minúsculas.\n",
    "- Média Complexidade: A senha pode conter letras minúsculas e maiúsculas, além de números.\n",
    "- Alta Complexidade: A senha pode conter letras minúsculas e maiúsculas, números e caracteres especiais (por exemplo, !, @, #,\\$, etc.).\n",
    "\n",
    "3. Para gerar a senha, você pode usar a biblioteca random para escolher caracteres aleatórios de acordo com a complexidade escolhida.\n",
    "\n",
    "4. Retorne a senha gerada como resultado da função."
   ]
  },
  {
   "cell_type": "code",
   "execution_count": null,
   "metadata": {},
   "outputs": [],
   "source": []
  },
  {
   "cell_type": "markdown",
   "metadata": {},
   "source": [
    "#### Exercício 2 - Gestão de Biblioteca\n",
    "\n",
    "**Contexto**: Você está desenvolvendo um sistema de gestão de uma biblioteca, onde deseja rastrear os livros disponíveis, os autores e as informações dos leitores.\n",
    "\n",
    "**Instruções**:\n",
    "\n",
    "1. Crie um dicionário chamado livros para armazenar informações sobre os livros da biblioteca. Cada livro deve ser representado por um dicionário com as chaves \"titulo\", \"autor\" e \"emprestado\".\n",
    "\n",
    "2. Crie uma função chamada cadastra_livro que recebe o título e o autor de um livro como argumentos. A função deve criar um dicionário para representar o livro e adicionar ao dicionário livros. Inicialize a chave \"emprestado\" como False, indicando que o livro não está emprestado.\n",
    "\n",
    "3. Crie uma função chamada empresta_livro que recebe o título de um livro como argumento. A função deve verificar se o livro existe no dicionário livros e se está emprestado. Se não estiver emprestado, marque-o como emprestado (alterando o valor da chave \"emprestado\" para True).\n",
    "\n",
    "4. Crie uma função chamada devolve_livro que recebe o título de um livro como argumento. A função deve verificar se o livro existe no dicionário livros e se está emprestado. Se estiver emprestado, marque-o como não emprestado (alterando o valor da chave \"emprestado\" para False).\n",
    "\n",
    "5. Crie uma função chamada mostra_livros que exibe as informações de todos os livros cadastrados no dicionário livros."
   ]
  },
  {
   "cell_type": "code",
   "execution_count": null,
   "metadata": {},
   "outputs": [],
   "source": [
    "def cadastra_livro(titulo, autor):\n",
    "    '''escreva o código'''\n",
    "    \n",
    "def empresta_livro(titulo):\n",
    "    '''escreva o código'''\n",
    "\n",
    "def devolve_livro(titulo):\n",
    "    '''escreva o código'''\n",
    "\n",
    "def mostra_livros():\n",
    "    print(\"Livros disponíveis:\")\n",
    "    '''escreva o código'''"
   ]
  },
  {
   "cell_type": "markdown",
   "metadata": {},
   "source": [
    "**Testar as funções criadas**"
   ]
  },
  {
   "cell_type": "code",
   "execution_count": null,
   "metadata": {},
   "outputs": [],
   "source": [
    "livros = {}\n",
    "\n",
    "# Cadastrando livros\n",
    "cadastra_livro(\"Dom Casmurro\", \"Machado de Assis\")\n",
    "cadastra_livro(\"O Pequeno Príncipe\", \"Antoine de Saint-Exupéry\")\n",
    "\n",
    "# Emprestando e devolvendo livros\n",
    "empresta_livro(\"Dom Casmurro\")\n",
    "empresta_livro(\"O Pequeno Príncipe\")\n",
    "devolve_livro(\"O Pequeno Príncipe\")\n",
    "\n",
    "# Mostrando livros\n",
    "mostra_livros()"
   ]
  }
 ],
 "metadata": {
  "kernelspec": {
   "display_name": "Python 3 (ipykernel)",
   "language": "python",
   "name": "python3"
  },
  "language_info": {
   "codemirror_mode": {
    "name": "ipython",
    "version": 3
   },
   "file_extension": ".py",
   "mimetype": "text/x-python",
   "name": "python",
   "nbconvert_exporter": "python",
   "pygments_lexer": "ipython3",
   "version": "3.8.6"
  }
 },
 "nbformat": 4,
 "nbformat_minor": 4
}
